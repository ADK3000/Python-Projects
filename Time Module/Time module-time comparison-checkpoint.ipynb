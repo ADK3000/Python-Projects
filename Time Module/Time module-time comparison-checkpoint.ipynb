{
 "cells": [
  {
   "cell_type": "code",
   "execution_count": 1,
   "id": "5b55f489",
   "metadata": {},
   "outputs": [
    {
     "name": "stdout",
     "output_type": "stream",
     "text": [
      "stmt1 time: 3.3523471999997128\n",
      "stmt2 time: 0.11915019999833021\n"
     ]
    }
   ],
   "source": [
    "# This program is used to illustrate timeit module\n",
    "import timeit\n",
    "setup='''\n",
    "import numpy as np \n",
    "import pandas as pd \n",
    "df=pd.read_csv(\"tips.csv\")\n",
    "\n",
    "def quality(total_bill,tip):\n",
    "    \n",
    "    if tip/total_bill> 0.25:\n",
    "        return 'Generous'\n",
    "    else:\n",
    "        return 'Others'\n",
    "'''\n",
    "\n",
    "stmt1='''df['Quality']=df[['total_bill','tip']].apply(lambda df:quality(df['total_bill'],df['tip']),axis=1)'''\n",
    "stmt2='''np.vectorize(quality)(df['total_bill'],df['tip'])'''\n",
    "\n",
    "print('stmt1 time:',timeit.timeit(setup=setup,stmt=stmt1,number=1000))\n",
    "print('stmt2 time:',timeit.timeit(setup=setup,stmt=stmt2,number=1000))"
   ]
  }
 ],
 "metadata": {
  "kernelspec": {
   "display_name": "Python 3 (ipykernel)",
   "language": "python",
   "name": "python3"
  },
  "language_info": {
   "codemirror_mode": {
    "name": "ipython",
    "version": 3
   },
   "file_extension": ".py",
   "mimetype": "text/x-python",
   "name": "python",
   "nbconvert_exporter": "python",
   "pygments_lexer": "ipython3",
   "version": "3.10.9"
  }
 },
 "nbformat": 4,
 "nbformat_minor": 5
}
